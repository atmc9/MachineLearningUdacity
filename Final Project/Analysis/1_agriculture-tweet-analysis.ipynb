{
 "cells": [
  {
   "cell_type": "markdown",
   "metadata": {},
   "source": [
    "# 1- Load data"
   ]
  },
  {
   "cell_type": "code",
   "execution_count": 558,
   "metadata": {
    "collapsed": true
   },
   "outputs": [],
   "source": [
    "import numpy as np # linear algebra\n",
    "import pandas as pd # data processing, CSV file I/O (e.g. pd.read_csv)\n",
    "import matplotlib.pyplot as plt\n",
    "import seaborn as sns\n",
    "%matplotlib inline\n",
    "from datetime import date\n",
    "from sklearn import preprocessing\n",
    "from IPython.display import Image\n",
    "from IPython.core.display import HTML, display\n",
    "import PIL.Image as pImage\n",
    "import requests\n",
    "from io import BytesIO\n",
    "from textblob import TextBlob\n",
    "import re\n",
    "from nltk.corpus import stopwords\n"
   ]
  },
  {
   "cell_type": "code",
   "execution_count": 559,
   "metadata": {},
   "outputs": [
    {
     "data": {
      "text/html": [
       "<div>\n",
       "<style scoped>\n",
       "    .dataframe tbody tr th:only-of-type {\n",
       "        vertical-align: middle;\n",
       "    }\n",
       "\n",
       "    .dataframe tbody tr th {\n",
       "        vertical-align: top;\n",
       "    }\n",
       "\n",
       "    .dataframe thead th {\n",
       "        text-align: right;\n",
       "    }\n",
       "</style>\n",
       "<table border=\"1\" class=\"dataframe\">\n",
       "  <thead>\n",
       "    <tr style=\"text-align: right;\">\n",
       "      <th></th>\n",
       "      <th>date</th>\n",
       "      <th>favorites</th>\n",
       "      <th>hashtags</th>\n",
       "      <th>id</th>\n",
       "      <th>mentions</th>\n",
       "      <th>permalink</th>\n",
       "      <th>retweets</th>\n",
       "      <th>text</th>\n",
       "      <th>username</th>\n",
       "    </tr>\n",
       "  </thead>\n",
       "  <tbody>\n",
       "    <tr>\n",
       "      <th>0</th>\n",
       "      <td>2018-03-30 11:33:01</td>\n",
       "      <td>3</td>\n",
       "      <td>#agriculture #Canada #AI #mining #oil #gas #Na...</td>\n",
       "      <td>979743304094019584</td>\n",
       "      <td>@Bioenterprise03</td>\n",
       "      <td>https://twitter.com/3DSNR/status/9797433040940...</td>\n",
       "      <td>2</td>\n",
       "      <td>RT @Bioenterprise03 The #agriculture industry ...</td>\n",
       "      <td>3DSNR</td>\n",
       "    </tr>\n",
       "    <tr>\n",
       "      <th>1</th>\n",
       "      <td>2018-03-30 10:58:13</td>\n",
       "      <td>0</td>\n",
       "      <td>#farming #farm #agritech #agriculture #success...</td>\n",
       "      <td>979734549608333313</td>\n",
       "      <td>NaN</td>\n",
       "      <td>https://twitter.com/99reviewz/status/979734549...</td>\n",
       "      <td>0</td>\n",
       "      <td>Are you a #farming fanatic that simply doesn't...</td>\n",
       "      <td>99reviewz</td>\n",
       "    </tr>\n",
       "    <tr>\n",
       "      <th>2</th>\n",
       "      <td>2018-03-30 08:41:25</td>\n",
       "      <td>0</td>\n",
       "      <td>#AI #AGRICULTURE #COMPUTING #ITPROTV</td>\n",
       "      <td>979700119523266560</td>\n",
       "      <td>NaN</td>\n",
       "      <td>https://twitter.com/Zach_ITProTV/status/979700...</td>\n",
       "      <td>0</td>\n",
       "      <td>A.I. advances in agriculture? Sounds interesti...</td>\n",
       "      <td>Zach_ITProTV</td>\n",
       "    </tr>\n",
       "    <tr>\n",
       "      <th>3</th>\n",
       "      <td>2018-03-30 05:02:01</td>\n",
       "      <td>1</td>\n",
       "      <td>#AI #NaturalResources #Mining #Oil #Gas #Fores...</td>\n",
       "      <td>979644907378872320</td>\n",
       "      <td>NaN</td>\n",
       "      <td>https://twitter.com/3DSNR/status/9796449073788...</td>\n",
       "      <td>0</td>\n",
       "      <td>How do you scale up or down without escalating...</td>\n",
       "      <td>3DSNR</td>\n",
       "    </tr>\n",
       "    <tr>\n",
       "      <th>4</th>\n",
       "      <td>2018-03-30 03:01:35</td>\n",
       "      <td>1</td>\n",
       "      <td>#foodinsecurity #globalhunger #Farmers #farmin...</td>\n",
       "      <td>979614598449061888</td>\n",
       "      <td>NaN</td>\n",
       "      <td>https://twitter.com/saillog_ltd/status/9796145...</td>\n",
       "      <td>1</td>\n",
       "      <td>AgrioShield is the first-ever alert system tha...</td>\n",
       "      <td>saillog_ltd</td>\n",
       "    </tr>\n",
       "    <tr>\n",
       "      <th>5</th>\n",
       "      <td>2018-03-30 01:09:35</td>\n",
       "      <td>1</td>\n",
       "      <td>#agritech #Robotics #robots #farming #driverle...</td>\n",
       "      <td>979586415624441858</td>\n",
       "      <td>@MikeQuindazzi</td>\n",
       "      <td>https://twitter.com/GOGLINJF/status/9795864156...</td>\n",
       "      <td>2</td>\n",
       "      <td>Next in #agritech ? #Robotics researchers are ...</td>\n",
       "      <td>GOGLINJF</td>\n",
       "    </tr>\n",
       "    <tr>\n",
       "      <th>6</th>\n",
       "      <td>2018-03-29 18:01:06</td>\n",
       "      <td>1</td>\n",
       "      <td>#agriculture #ML #AI #machinelearning #acquisi...</td>\n",
       "      <td>979478582891286534</td>\n",
       "      <td>NaN</td>\n",
       "      <td>https://twitter.com/MaribelLopez/status/979478...</td>\n",
       "      <td>0</td>\n",
       "      <td>ICYMI: Big changes in #agriculture based on #M...</td>\n",
       "      <td>MaribelLopez</td>\n",
       "    </tr>\n",
       "    <tr>\n",
       "      <th>7</th>\n",
       "      <td>2018-03-29 13:02:02</td>\n",
       "      <td>1</td>\n",
       "      <td>#Alphabet #AI #agriculture #FoodTech</td>\n",
       "      <td>979403317603459072</td>\n",
       "      <td>@MIT</td>\n",
       "      <td>https://twitter.com/JohnHotta/status/979403317...</td>\n",
       "      <td>1</td>\n",
       "      <td>From @MIT : #Alphabet X is exploring new ways ...</td>\n",
       "      <td>JohnHotta</td>\n",
       "    </tr>\n",
       "  </tbody>\n",
       "</table>\n",
       "</div>"
      ],
      "text/plain": [
       "                 date  favorites  \\\n",
       "0 2018-03-30 11:33:01          3   \n",
       "1 2018-03-30 10:58:13          0   \n",
       "2 2018-03-30 08:41:25          0   \n",
       "3 2018-03-30 05:02:01          1   \n",
       "4 2018-03-30 03:01:35          1   \n",
       "5 2018-03-30 01:09:35          1   \n",
       "6 2018-03-29 18:01:06          1   \n",
       "7 2018-03-29 13:02:02          1   \n",
       "\n",
       "                                            hashtags                  id  \\\n",
       "0  #agriculture #Canada #AI #mining #oil #gas #Na...  979743304094019584   \n",
       "1  #farming #farm #agritech #agriculture #success...  979734549608333313   \n",
       "2               #AI #AGRICULTURE #COMPUTING #ITPROTV  979700119523266560   \n",
       "3  #AI #NaturalResources #Mining #Oil #Gas #Fores...  979644907378872320   \n",
       "4  #foodinsecurity #globalhunger #Farmers #farmin...  979614598449061888   \n",
       "5  #agritech #Robotics #robots #farming #driverle...  979586415624441858   \n",
       "6  #agriculture #ML #AI #machinelearning #acquisi...  979478582891286534   \n",
       "7               #Alphabet #AI #agriculture #FoodTech  979403317603459072   \n",
       "\n",
       "           mentions                                          permalink  \\\n",
       "0  @Bioenterprise03  https://twitter.com/3DSNR/status/9797433040940...   \n",
       "1               NaN  https://twitter.com/99reviewz/status/979734549...   \n",
       "2               NaN  https://twitter.com/Zach_ITProTV/status/979700...   \n",
       "3               NaN  https://twitter.com/3DSNR/status/9796449073788...   \n",
       "4               NaN  https://twitter.com/saillog_ltd/status/9796145...   \n",
       "5    @MikeQuindazzi  https://twitter.com/GOGLINJF/status/9795864156...   \n",
       "6               NaN  https://twitter.com/MaribelLopez/status/979478...   \n",
       "7              @MIT  https://twitter.com/JohnHotta/status/979403317...   \n",
       "\n",
       "   retweets                                               text      username  \n",
       "0         2  RT @Bioenterprise03 The #agriculture industry ...         3DSNR  \n",
       "1         0  Are you a #farming fanatic that simply doesn't...     99reviewz  \n",
       "2         0  A.I. advances in agriculture? Sounds interesti...  Zach_ITProTV  \n",
       "3         0  How do you scale up or down without escalating...         3DSNR  \n",
       "4         1  AgrioShield is the first-ever alert system tha...   saillog_ltd  \n",
       "5         2  Next in #agritech ? #Robotics researchers are ...      GOGLINJF  \n",
       "6         0  ICYMI: Big changes in #agriculture based on #M...  MaribelLopez  \n",
       "7         1  From @MIT : #Alphabet X is exploring new ways ...     JohnHotta  "
      ]
     },
     "execution_count": 559,
     "metadata": {},
     "output_type": "execute_result"
    }
   ],
   "source": [
    "all_tweets = pd.read_csv('socialgood_data/all_industries/agriculture_AI.csv', parse_dates=['date'])\n",
    "all_tweets.drop(['geo'], axis = 1, inplace=True)\n",
    "all_tweets.head(8)"
   ]
  },
  {
   "cell_type": "markdown",
   "metadata": {},
   "source": [
    "# 2 - Preprocess data (missing values, LabelEncoding, )"
   ]
  },
  {
   "cell_type": "code",
   "execution_count": 560,
   "metadata": {},
   "outputs": [],
   "source": [
    "#missing data\n",
    "total = all_tweets.isnull().sum().sort_values(ascending=False)\n",
    "percent = (all_tweets.isnull().sum()/all_tweets.isnull().count()).sort_values(ascending=False)\n",
    "missing_data = pd.concat([total, percent], axis=1, keys=['Total', 'Percent'])\n",
    "#missing_data.head(20)"
   ]
  },
  {
   "cell_type": "code",
   "execution_count": 561,
   "metadata": {
    "collapsed": true
   },
   "outputs": [],
   "source": [
    "all_tweets = all_tweets.fillna('')\n",
    "all_tweets['hashtags_list'] = all_tweets.hashtags.str.lower().apply(lambda x: x.split('#'))\n",
    "all_tweets['hashtags_list'] = all_tweets[['hashtags_list']].applymap(lambda x: list(filter(None, x)))\n",
    "all_tweets['mentions_list'] = all_tweets.mentions.str.lower().apply(lambda x: x.split('@'))\n",
    "all_tweets['mentions_list'] = all_tweets[['mentions_list']].applymap(lambda x: list(filter(None, x)))\n",
    " \n",
    "\n",
    "all_tweets[\"count_hashtags\"] = all_tweets[['hashtags']].applymap(lambda x: str.count(x, '#'))\n",
    "all_tweets[\"count_mentions\"] = all_tweets[['mentions']].applymap(lambda x: str.count(x, '@'))"
   ]
  },
  {
   "cell_type": "code",
   "execution_count": 562,
   "metadata": {},
   "outputs": [
    {
     "data": {
      "text/plain": [
       "['agriculture ',\n",
       " 'canada ',\n",
       " 'ai ',\n",
       " 'mining ',\n",
       " 'oil ',\n",
       " 'gas ',\n",
       " 'naturalresources ',\n",
       " 'iot']"
      ]
     },
     "execution_count": 562,
     "metadata": {},
     "output_type": "execute_result"
    }
   ],
   "source": [
    "all_tweets.hashtags_list[0]"
   ]
  },
  {
   "cell_type": "code",
   "execution_count": 563,
   "metadata": {},
   "outputs": [
    {
     "name": "stdout",
     "output_type": "stream",
     "text": [
      "208\n"
     ]
    },
    {
     "data": {
      "text/plain": [
       "\"RT @Bioenterprise03 The #agriculture industry isn't the only resource sector in #Canada that has been shaken awake by the potential of #AI . In #mining and #oil and #gas it is also a major trend. Read article in globeandmail -> http:// 3ds.one/HJGkXH #NaturalResources #IoT pic.twitter.com/nVqbW6eiVw\""
      ]
     },
     "execution_count": 563,
     "metadata": {},
     "output_type": "execute_result"
    }
   ],
   "source": [
    "lbl = preprocessing.LabelEncoder()\n",
    "all_tweets['username_id'] = lbl.fit_transform(all_tweets['username'])\n",
    "all_tweets.head(5)\n",
    "\n",
    "list_of_original_tweets = [element for element in all_tweets['text'].values if element.startswith('RT')]\n",
    "print(len(list_of_original_tweets))\n",
    "list_of_original_tweets[0]"
   ]
  },
  {
   "cell_type": "code",
   "execution_count": 564,
   "metadata": {
    "collapsed": true
   },
   "outputs": [],
   "source": [
    "def tweet_clean(text):\n",
    "    stopword_set = set(stopwords.words(\"english\"))\n",
    "    stopword_set.add('…')\n",
    "    tweet_c = ' '.join([word for word in text.split(' ') if(len(word) > 0 and word[0] != '@' and word[0] != '#' \n",
    "                                                            and word not in stopword_set)])\n",
    "    return tweet_c\n",
    "\n",
    "def strip_links(text):\n",
    "    link_regex    = re.compile('((https?):((// )|(\\\\\\\\ ))+([\\w\\d:#@%/;$()~_?\\+-=\\\\\\.&](#!)?)*)', re.DOTALL)\n",
    "    links         = re.findall(link_regex, text)\n",
    "    for link in links:\n",
    "        text = text.replace(link[0], '')    \n",
    "    return text \n",
    "\n",
    "def strip_retweetinfo(text):\n",
    "    return re.sub('RT: \\((\\w+)\\)', '', text)"
   ]
  },
  {
   "cell_type": "code",
   "execution_count": 565,
   "metadata": {
    "collapsed": true
   },
   "outputs": [],
   "source": [
    "all_tweets['clean_text'] = all_tweets[['text']].applymap(tweet_clean).applymap(strip_links).applymap(strip_retweetinfo)"
   ]
  },
  {
   "cell_type": "code",
   "execution_count": 566,
   "metadata": {},
   "outputs": [
    {
     "data": {
      "text/html": [
       "<div>\n",
       "<style scoped>\n",
       "    .dataframe tbody tr th:only-of-type {\n",
       "        vertical-align: middle;\n",
       "    }\n",
       "\n",
       "    .dataframe tbody tr th {\n",
       "        vertical-align: top;\n",
       "    }\n",
       "\n",
       "    .dataframe thead th {\n",
       "        text-align: right;\n",
       "    }\n",
       "</style>\n",
       "<table border=\"1\" class=\"dataframe\">\n",
       "  <thead>\n",
       "    <tr style=\"text-align: right;\">\n",
       "      <th></th>\n",
       "      <th>favorites</th>\n",
       "      <th>id</th>\n",
       "      <th>retweets</th>\n",
       "      <th>count_hashtags</th>\n",
       "      <th>count_mentions</th>\n",
       "      <th>username_id</th>\n",
       "    </tr>\n",
       "  </thead>\n",
       "  <tbody>\n",
       "    <tr>\n",
       "      <th>count</th>\n",
       "      <td>3122.000000</td>\n",
       "      <td>3.122000e+03</td>\n",
       "      <td>3122.000000</td>\n",
       "      <td>3122.000000</td>\n",
       "      <td>3122.000000</td>\n",
       "      <td>3122.000000</td>\n",
       "    </tr>\n",
       "    <tr>\n",
       "      <th>mean</th>\n",
       "      <td>3.649584</td>\n",
       "      <td>9.001346e+17</td>\n",
       "      <td>3.385330</td>\n",
       "      <td>6.519539</td>\n",
       "      <td>0.549327</td>\n",
       "      <td>747.129725</td>\n",
       "    </tr>\n",
       "    <tr>\n",
       "      <th>std</th>\n",
       "      <td>41.970591</td>\n",
       "      <td>6.676728e+16</td>\n",
       "      <td>12.716582</td>\n",
       "      <td>4.349860</td>\n",
       "      <td>1.149356</td>\n",
       "      <td>402.702502</td>\n",
       "    </tr>\n",
       "    <tr>\n",
       "      <th>min</th>\n",
       "      <td>0.000000</td>\n",
       "      <td>4.349295e+17</td>\n",
       "      <td>0.000000</td>\n",
       "      <td>2.000000</td>\n",
       "      <td>0.000000</td>\n",
       "      <td>0.000000</td>\n",
       "    </tr>\n",
       "    <tr>\n",
       "      <th>25%</th>\n",
       "      <td>0.000000</td>\n",
       "      <td>8.758139e+17</td>\n",
       "      <td>0.000000</td>\n",
       "      <td>3.000000</td>\n",
       "      <td>0.000000</td>\n",
       "      <td>418.250000</td>\n",
       "    </tr>\n",
       "    <tr>\n",
       "      <th>50%</th>\n",
       "      <td>1.000000</td>\n",
       "      <td>9.120170e+17</td>\n",
       "      <td>1.000000</td>\n",
       "      <td>5.000000</td>\n",
       "      <td>0.000000</td>\n",
       "      <td>828.000000</td>\n",
       "    </tr>\n",
       "    <tr>\n",
       "      <th>75%</th>\n",
       "      <td>2.000000</td>\n",
       "      <td>9.474906e+17</td>\n",
       "      <td>2.000000</td>\n",
       "      <td>8.000000</td>\n",
       "      <td>1.000000</td>\n",
       "      <td>1047.750000</td>\n",
       "    </tr>\n",
       "    <tr>\n",
       "      <th>max</th>\n",
       "      <td>2288.000000</td>\n",
       "      <td>9.797433e+17</td>\n",
       "      <td>180.000000</td>\n",
       "      <td>25.000000</td>\n",
       "      <td>17.000000</td>\n",
       "      <td>1499.000000</td>\n",
       "    </tr>\n",
       "  </tbody>\n",
       "</table>\n",
       "</div>"
      ],
      "text/plain": [
       "         favorites            id     retweets  count_hashtags  count_mentions  \\\n",
       "count  3122.000000  3.122000e+03  3122.000000     3122.000000     3122.000000   \n",
       "mean      3.649584  9.001346e+17     3.385330        6.519539        0.549327   \n",
       "std      41.970591  6.676728e+16    12.716582        4.349860        1.149356   \n",
       "min       0.000000  4.349295e+17     0.000000        2.000000        0.000000   \n",
       "25%       0.000000  8.758139e+17     0.000000        3.000000        0.000000   \n",
       "50%       1.000000  9.120170e+17     1.000000        5.000000        0.000000   \n",
       "75%       2.000000  9.474906e+17     2.000000        8.000000        1.000000   \n",
       "max    2288.000000  9.797433e+17   180.000000       25.000000       17.000000   \n",
       "\n",
       "       username_id  \n",
       "count  3122.000000  \n",
       "mean    747.129725  \n",
       "std     402.702502  \n",
       "min       0.000000  \n",
       "25%     418.250000  \n",
       "50%     828.000000  \n",
       "75%    1047.750000  \n",
       "max    1499.000000  "
      ]
     },
     "execution_count": 566,
     "metadata": {},
     "output_type": "execute_result"
    }
   ],
   "source": [
    "all_tweets.describe()"
   ]
  },
  {
   "cell_type": "markdown",
   "metadata": {},
   "source": [
    "\n",
    "# 2- Analyse each column: \n",
    "\n"
   ]
  },
  {
   "cell_type": "code",
   "execution_count": 567,
   "metadata": {},
   "outputs": [
    {
     "data": {
      "image/png": "[encoded data removed]",
      "text/plain": [
       "<matplotlib.figure.Figure at 0x1a3c238c50>"
      ]
     },
     "metadata": {},
     "output_type": "display_data"
    }
   ],
   "source": [
    "sns.distplot(all_tweets['favorites']);"
   ]
  },
  {
   "cell_type": "code",
   "execution_count": 568,
   "metadata": {},
   "outputs": [
    {
     "data": {
      "text/plain": [
       "count    3122.000000\n",
       "mean        3.649584\n",
       "std        41.970591\n",
       "min         0.000000\n",
       "25%         0.000000\n",
       "50%         1.000000\n",
       "75%         2.000000\n",
       "max      2288.000000\n",
       "Name: favorites, dtype: float64"
      ]
     },
     "execution_count": 568,
     "metadata": {},
     "output_type": "execute_result"
    }
   ],
   "source": [
    "all_tweets['favorites'].describe()\n"
   ]
  },
  {
   "cell_type": "markdown",
   "metadata": {},
   "source": [
    "**The mean favorite count is : 2.7**"
   ]
  },
  {
   "cell_type": "code",
   "execution_count": 569,
   "metadata": {},
   "outputs": [
    {
     "data": {
      "image/png": "[encoded data removed]",
      "text/plain": [
       "<matplotlib.figure.Figure at 0x1a24322080>"
      ]
     },
     "metadata": {},
     "output_type": "display_data"
    }
   ],
   "source": [
    "sns.distplot(all_tweets['retweets']);"
   ]
  },
  {
   "cell_type": "code",
   "execution_count": 570,
   "metadata": {},
   "outputs": [
    {
     "data": {
      "text/plain": [
       "count    3122.000000\n",
       "mean        3.385330\n",
       "std        12.716582\n",
       "min         0.000000\n",
       "25%         0.000000\n",
       "50%         1.000000\n",
       "75%         2.000000\n",
       "max       180.000000\n",
       "Name: retweets, dtype: float64"
      ]
     },
     "execution_count": 570,
     "metadata": {},
     "output_type": "execute_result"
    }
   ],
   "source": [
    "all_tweets['retweets'].describe()"
   ]
  },
  {
   "cell_type": "markdown",
   "metadata": {},
   "source": [
    "**The mean retweets count is : 1.9**"
   ]
  },
  {
   "cell_type": "code",
   "execution_count": 571,
   "metadata": {},
   "outputs": [
    {
     "data": {
      "image/png": "[encoded data removed]",
      "text/plain": [
       "<matplotlib.figure.Figure at 0x1a3cbf7e10>"
      ]
     },
     "metadata": {},
     "output_type": "display_data"
    }
   ],
   "source": [
    "sns.distplot(all_tweets['count_mentions']);"
   ]
  },
  {
   "cell_type": "code",
   "execution_count": 572,
   "metadata": {},
   "outputs": [
    {
     "data": {
      "text/plain": [
       "count    3122.000000\n",
       "mean        0.549327\n",
       "std         1.149356\n",
       "min         0.000000\n",
       "25%         0.000000\n",
       "50%         0.000000\n",
       "75%         1.000000\n",
       "max        17.000000\n",
       "Name: count_mentions, dtype: float64"
      ]
     },
     "execution_count": 572,
     "metadata": {},
     "output_type": "execute_result"
    }
   ],
   "source": [
    "all_tweets['count_mentions'].describe()"
   ]
  },
  {
   "cell_type": "markdown",
   "metadata": {},
   "source": [
    "**The mean mentions count is : 0.78**"
   ]
  },
  {
   "cell_type": "code",
   "execution_count": 573,
   "metadata": {},
   "outputs": [
    {
     "data": {
      "image/png": "[encoded data removed]",
      "text/plain": [
       "<matplotlib.figure.Figure at 0x1a3cb88240>"
      ]
     },
     "metadata": {},
     "output_type": "display_data"
    }
   ],
   "source": [
    "sns.distplot(all_tweets['count_hashtags']);"
   ]
  },
  {
   "cell_type": "code",
   "execution_count": 574,
   "metadata": {},
   "outputs": [
    {
     "data": {
      "text/plain": [
       "count    3122.000000\n",
       "mean        6.519539\n",
       "std         4.349860\n",
       "min         2.000000\n",
       "25%         3.000000\n",
       "50%         5.000000\n",
       "75%         8.000000\n",
       "max        25.000000\n",
       "Name: count_hashtags, dtype: float64"
      ]
     },
     "execution_count": 574,
     "metadata": {},
     "output_type": "execute_result"
    }
   ],
   "source": [
    "all_tweets['count_hashtags'].describe()"
   ]
  },
  {
   "cell_type": "markdown",
   "metadata": {},
   "source": [
    "**The mean hashtag count is : 4.17**"
   ]
  },
  {
   "cell_type": "code",
   "execution_count": 575,
   "metadata": {},
   "outputs": [
    {
     "data": {
      "image/png": "[encoded data removed]",
      "text/plain": [
       "<matplotlib.figure.Figure at 0x1a3cbce7f0>"
      ]
     },
     "metadata": {},
     "output_type": "display_data"
    }
   ],
   "source": [
    "#sns.distplot(all_tweets['username_id']);\n",
    "sns.countplot(x=\"username_id\", data=all_tweets, orient='v');"
   ]
  },
  {
   "cell_type": "code",
   "execution_count": 576,
   "metadata": {},
   "outputs": [
    {
     "data": {
      "text/plain": [
       "count    3122.000000\n",
       "mean      747.129725\n",
       "std       402.702502\n",
       "min         0.000000\n",
       "25%       418.250000\n",
       "50%       828.000000\n",
       "75%      1047.750000\n",
       "max      1499.000000\n",
       "Name: username_id, dtype: float64"
      ]
     },
     "execution_count": 576,
     "metadata": {},
     "output_type": "execute_result"
    }
   ],
   "source": [
    "all_tweets['username_id'].describe()"
   ]
  },
  {
   "cell_type": "markdown",
   "metadata": {},
   "source": [
    "**The unique members tweeted are : 609**"
   ]
  },
  {
   "cell_type": "markdown",
   "metadata": {},
   "source": [
    "# 3 - See correlations among 2 variables"
   ]
  },
  {
   "cell_type": "markdown",
   "metadata": {},
   "source": [
    "**Does the retweet count increases by number of mentions or hashtags ??**\n",
    "\n",
    "* Obviously, for all tweets with >4 mentions or >10 hashtags, we dont see a high number for re-tweet count in below charts.\n"
   ]
  },
  {
   "cell_type": "code",
   "execution_count": 577,
   "metadata": {},
   "outputs": [
    {
     "data": {
      "image/png": "[encoded data removed]",
      "text/plain": [
       "<matplotlib.figure.Figure at 0x1a34032e10>"
      ]
     },
     "metadata": {},
     "output_type": "display_data"
    }
   ],
   "source": [
    "#scatter plot favorites/retweets\n",
    "var = 'retweets'\n",
    "data = pd.concat([all_tweets['count_mentions'], all_tweets[var]], axis=1)\n",
    "data.plot.scatter(x=var, y='count_mentions');"
   ]
  },
  {
   "cell_type": "code",
   "execution_count": 578,
   "metadata": {},
   "outputs": [
    {
     "data": {
      "image/png": "[encoded data removed]",
      "text/plain": [
       "<matplotlib.figure.Figure at 0x1a36294f60>"
      ]
     },
     "metadata": {},
     "output_type": "display_data"
    }
   ],
   "source": [
    "#scatter plot favorites/retweets\n",
    "var = 'retweets'\n",
    "data = pd.concat([all_tweets['count_hashtags'], all_tweets[var]], axis=1)\n",
    "data.plot.scatter(x=var, y='count_hashtags');"
   ]
  },
  {
   "cell_type": "markdown",
   "metadata": {},
   "source": [
    "**Does the favorites count increases by number of mentions or hashtags ??**\n",
    "\n",
    "* Obviously, for all tweets with >4 mentions or >10 hashtags, we dont see a high number for favorites count in below charts.\n"
   ]
  },
  {
   "cell_type": "code",
   "execution_count": 579,
   "metadata": {},
   "outputs": [
    {
     "data": {
      "image/png": "[encoded data removed]",
      "text/plain": [
       "<matplotlib.figure.Figure at 0x1a286b42e8>"
      ]
     },
     "metadata": {},
     "output_type": "display_data"
    }
   ],
   "source": [
    "#box plot overallqual/saleprice\n",
    "var = 'count_mentions'\n",
    "data = pd.concat([all_tweets['favorites'], all_tweets[var]], axis=1)\n",
    "f, ax = plt.subplots(figsize=(8, 6))\n",
    "fig = sns.boxplot(x=var, y=\"favorites\", data=data)"
   ]
  },
  {
   "cell_type": "code",
   "execution_count": 580,
   "metadata": {},
   "outputs": [
    {
     "data": {
      "image/png": "[encoded data removed]",
      "text/plain": [
       "<matplotlib.figure.Figure at 0x1a294c59b0>"
      ]
     },
     "metadata": {},
     "output_type": "display_data"
    }
   ],
   "source": [
    "#box plot overallqual/saleprice\n",
    "var = 'count_hashtags'\n",
    "data = pd.concat([all_tweets['favorites'], all_tweets[var]], axis=1)\n",
    "f, ax = plt.subplots(figsize=(8, 6))\n",
    "fig = sns.boxplot(x=var, y=\"favorites\", data=data)"
   ]
  },
  {
   "cell_type": "markdown",
   "metadata": {},
   "source": [
    "**Lets see the correlation among all columns**"
   ]
  },
  {
   "cell_type": "code",
   "execution_count": 581,
   "metadata": {},
   "outputs": [
    {
     "data": {
      "image/png": "[encoded data removed]",
      "text/plain": [
       "<matplotlib.figure.Figure at 0x1a286e60b8>"
      ]
     },
     "metadata": {},
     "output_type": "display_data"
    }
   ],
   "source": [
    "#correlation matrix\n",
    "corrmat = all_tweets.corr()\n",
    "f, ax = plt.subplots(figsize=(12, 9))\n",
    "sns.heatmap(corrmat, vmax=.8, square=True);\n"
   ]
  },
  {
   "cell_type": "code",
   "execution_count": 582,
   "metadata": {},
   "outputs": [
    {
     "data": {
      "image/png": "[encoded data removed]",
      "text/plain": [
       "<matplotlib.figure.Figure at 0x1a3c648fd0>"
      ]
     },
     "metadata": {},
     "output_type": "display_data"
    }
   ],
   "source": [
    "#saleprice correlation matrix\n",
    "k = 10 #number of variables for heatmap\n",
    "cols = corrmat.nlargest(k, 'retweets')['retweets'].index\n",
    "cm = np.corrcoef(all_tweets[cols].values.T)\n",
    "sns.set(font_scale=1.25)\n",
    "hm = sns.heatmap(cm, cbar=True, annot=True, square=True, fmt='.2f', annot_kws={'size': 10}, yticklabels=cols.values, xticklabels=cols.values)\n",
    "plt.show()\n"
   ]
  },
  {
   "cell_type": "markdown",
   "metadata": {},
   "source": [
    "**Observations:**\n",
    "1. 75% correlation between retweet count and favorites count. It makes perfect sense as more people will like if the tweet reach more people.\n",
    "2. This is very interesting to see 23% correlation between tweet_id, hashtag_count. If we see the below correlation between id and count_hashtags, we can see small tendency of using more hastags with increase in id value. This tells that people are using more hastags in recent time than before, makes perfect sense."
   ]
  },
  {
   "cell_type": "code",
   "execution_count": 583,
   "metadata": {},
   "outputs": [
    {
     "data": {
      "image/png": "[encoded data removed]",
      "text/plain": [
       "<matplotlib.figure.Figure at 0x1a3c567240>"
      ]
     },
     "metadata": {},
     "output_type": "display_data"
    }
   ],
   "source": [
    "#scatterplot\n",
    "sns.set()\n",
    "cols = ['retweets',  'favorites']\n",
    "sns.pairplot(all_tweets[cols], size = 2.5)\n",
    "plt.show();"
   ]
  },
  {
   "cell_type": "code",
   "execution_count": 584,
   "metadata": {},
   "outputs": [
    {
     "data": {
      "image/png": "[encoded data removed]",
      "text/plain": [
       "<matplotlib.figure.Figure at 0x1a33cec5c0>"
      ]
     },
     "metadata": {},
     "output_type": "display_data"
    }
   ],
   "source": [
    "#scatterplot\n",
    "sns.set()\n",
    "cols = ['count_mentions', 'id']\n",
    "sns.pairplot(all_tweets[cols], size = 2.5)\n",
    "plt.show();\n"
   ]
  },
  {
   "cell_type": "markdown",
   "metadata": {},
   "source": [
    "# 4 - Most Influential people"
   ]
  },
  {
   "cell_type": "code",
   "execution_count": 585,
   "metadata": {
    "collapsed": true
   },
   "outputs": [],
   "source": [
    "def grid_display(list_of_images, list_of_titles=[], list_of_profile_urls=[], no_of_columns=5, figsize=(10,10)):\n",
    "\n",
    "    fig = plt.figure(figsize=figsize)\n",
    "    column = 0\n",
    "    for i in range(len(list_of_images)):\n",
    "        column += 1\n",
    "        #  check for end of column and create a new figure\n",
    "        if column == no_of_columns+1:\n",
    "            fig = plt.figure(figsize=figsize)\n",
    "            column = 1\n",
    "        fig.add_subplot(1, no_of_columns, column)\n",
    "        response = requests.get(list_of_images[i])\n",
    "        img = pImage.open(BytesIO(response.content))\n",
    "\n",
    "        plt.imshow(img)\n",
    "        plt.axis('off')\n",
    "        #plt.axis.Axis.set_url(list_of_profile_urls[i])\n",
    "        if len(list_of_titles) >= len(list_of_images):\n",
    "            plt.title(list_of_titles[i], fontsize = 13)"
   ]
  },
  {
   "cell_type": "code",
   "execution_count": 586,
   "metadata": {
    "collapsed": true
   },
   "outputs": [],
   "source": [
    "def display_influential(df):\n",
    "    print(\"profile_name - no_of_tweets - link_to_profile\")\n",
    "    list_of_images = []\n",
    "    list_of_titles = []\n",
    "    list_of_profile_urls = []\n",
    "    for index, row in df.iterrows():\n",
    "        p_url = 'https://twitter.com/'+ row['username'] +'/profile_image?size=original'\n",
    "        list_of_images.append(p_url)\n",
    "        list_of_titles.append(str(row['Size']) + ' - ' + row['username'])\n",
    "        list_of_profile_urls.append(\"https://twitter.com/\" + row['username'] )\n",
    "        \n",
    "    grid_display(list_of_images, list_of_titles, list_of_profile_urls)"
   ]
  },
  {
   "cell_type": "code",
   "execution_count": 587,
   "metadata": {},
   "outputs": [
    {
     "name": "stdout",
     "output_type": "stream",
     "text": [
      "profile_name - no_of_tweets - link_to_profile\n"
     ]
    },
    {
     "data": {
      "image/png": "[encoded data removed]",
      "text/plain": [
       "<matplotlib.figure.Figure at 0x1a362a1828>"
      ]
     },
     "metadata": {},
     "output_type": "display_data"
    }
   ],
   "source": [
    "groups = all_tweets.copy(deep=True)\n",
    "groups = groups[['username_id', 'username']]\n",
    "groups = groups.groupby(['username_id', 'username']).size().reset_index(name='Size')\n",
    "groups = groups.sort_values(by=['Size'], ascending=False)\n",
    "groups = groups[groups['Size'] >= 50]\n",
    "\n",
    "display_influential(groups)"
   ]
  },
  {
   "cell_type": "markdown",
   "metadata": {},
   "source": [
    "# 5 - Analyse Co-occurring hashtags\n",
    "\n",
    "Lets Analyse co-occurring hastags that we might want to include in our data collection.(If related to socialgood topic)"
   ]
  },
  {
   "cell_type": "code",
   "execution_count": 597,
   "metadata": {
    "scrolled": true
   },
   "outputs": [
    {
     "data": {
      "text/plain": [
       "ai                         3147\n",
       "agriculture                3137\n",
       "iot                         894\n",
       "robotics                    810\n",
       "bigdata                     635\n",
       "robots                      604\n",
       "agritech                    455\n",
       "drones                      428\n",
       "farming                     370\n",
       "machinelearning             346\n",
       "agtech                      345\n",
       "tech                        334\n",
       "artificialintelligence      330\n",
       "technology                  248\n",
       "ml                          201\n",
       "innovation                  188\n",
       "dataanalytics               167\n",
       "food                        131\n",
       "iiot                        124\n",
       "healthcare                  117\n",
       "analytics                   116\n",
       "automation                  115\n",
       "datascience                 110\n",
       "startup                      96\n",
       "manufacturing                93\n",
       "drone                        92\n",
       "data                         83\n",
       "digital                      83\n",
       "energy                       78\n",
       "foodtech                     77\n",
       "future                       73\n",
       "cloud                        72\n",
       "deeplearning                 70\n",
       "startups                     68\n",
       "sensors                      66\n",
       "farmers                      62\n",
       "ar                           61\n",
       "health                       60\n",
       "blockchain                   58\n",
       "internetofthings             57\n",
       "robotic                      56\n",
       "fintech                      53\n",
       "automotive                   51\n",
       "farm                         51\n",
       "business                     51\n",
       "finance                      50\n",
       "robot                        48\n",
       "smartfarming                 47\n",
       "mining                       47\n",
       "industry40                   46\n",
       "dtype: int64"
      ]
     },
     "execution_count": 597,
     "metadata": {},
     "output_type": "execute_result"
    }
   ],
   "source": [
    " pd.Series(' '.join(all_tweets['hashtags']).lower().split('#')).value_counts()[:50]\n"
   ]
  },
  {
   "cell_type": "code",
   "execution_count": 589,
   "metadata": {},
   "outputs": [],
   "source": [
    "all_tweets['sentiment'] = all_tweets[['clean_text']].applymap(lambda x: TextBlob(x).sentiment.polarity)\n"
   ]
  },
  {
   "cell_type": "code",
   "execution_count": 590,
   "metadata": {},
   "outputs": [
    {
     "data": {
      "image/png": "[encoded data removed]",
      "text/plain": [
       "<matplotlib.figure.Figure at 0x1a3c633d68>"
      ]
     },
     "metadata": {},
     "output_type": "display_data"
    }
   ],
   "source": [
    "sns.distplot(all_tweets['sentiment']);"
   ]
  },
  {
   "cell_type": "code",
   "execution_count": 591,
   "metadata": {},
   "outputs": [
    {
     "data": {
      "text/html": [
       "<div>\n",
       "<style scoped>\n",
       "    .dataframe tbody tr th:only-of-type {\n",
       "        vertical-align: middle;\n",
       "    }\n",
       "\n",
       "    .dataframe tbody tr th {\n",
       "        vertical-align: top;\n",
       "    }\n",
       "\n",
       "    .dataframe thead th {\n",
       "        text-align: right;\n",
       "    }\n",
       "</style>\n",
       "<table border=\"1\" class=\"dataframe\">\n",
       "  <thead>\n",
       "    <tr style=\"text-align: right;\">\n",
       "      <th></th>\n",
       "      <th>clean_text</th>\n",
       "    </tr>\n",
       "  </thead>\n",
       "  <tbody>\n",
       "    <tr>\n",
       "      <th>2557</th>\n",
       "      <td>Are drones really, best, VRFA systems?</td>\n",
       "    </tr>\n",
       "    <tr>\n",
       "      <th>2590</th>\n",
       "      <td>Seed retailers using products create best corn...</td>\n",
       "    </tr>\n",
       "    <tr>\n",
       "      <th>1985</th>\n",
       "      <td>Excellent topic! augment  atus/897237584589598721</td>\n",
       "    </tr>\n",
       "    <tr>\n",
       "      <th>1639</th>\n",
       "      <td>InfoSecurity99: RT ChrisBarnouin: Using indust...</td>\n",
       "    </tr>\n",
       "    <tr>\n",
       "      <th>2883</th>\n",
       "      <td>Where greatest opportunities are: -</td>\n",
       "    </tr>\n",
       "  </tbody>\n",
       "</table>\n",
       "</div>"
      ],
      "text/plain": [
       "                                             clean_text\n",
       "2557             Are drones really, best, VRFA systems?\n",
       "2590  Seed retailers using products create best corn...\n",
       "1985  Excellent topic! augment  atus/897237584589598721\n",
       "1639  InfoSecurity99: RT ChrisBarnouin: Using indust...\n",
       "2883               Where greatest opportunities are: - "
      ]
     },
     "execution_count": 591,
     "metadata": {},
     "output_type": "execute_result"
    }
   ],
   "source": [
    " all_tweets[all_tweets['sentiment'] >=0].sort_values(by=['sentiment'], ascending=False).head()[['clean_text']]"
   ]
  },
  {
   "cell_type": "code",
   "execution_count": 592,
   "metadata": {},
   "outputs": [
    {
     "data": {
      "text/html": [
       "<div>\n",
       "<style scoped>\n",
       "    .dataframe tbody tr th:only-of-type {\n",
       "        vertical-align: middle;\n",
       "    }\n",
       "\n",
       "    .dataframe tbody tr th {\n",
       "        vertical-align: top;\n",
       "    }\n",
       "\n",
       "    .dataframe thead th {\n",
       "        text-align: right;\n",
       "    }\n",
       "</style>\n",
       "<table border=\"1\" class=\"dataframe\">\n",
       "  <thead>\n",
       "    <tr style=\"text-align: right;\">\n",
       "      <th></th>\n",
       "      <th>clean_text</th>\n",
       "    </tr>\n",
       "  </thead>\n",
       "  <tbody>\n",
       "    <tr>\n",
       "      <th>3121</th>\n",
       "      <td>NSA panama city sheikh isa air base viral hemo...</td>\n",
       "    </tr>\n",
       "    <tr>\n",
       "      <th>3112</th>\n",
       "      <td>Dr. Erick Loetz teaching Intro Animal Science ...</td>\n",
       "    </tr>\n",
       "    <tr>\n",
       "      <th>2541</th>\n",
       "      <td>How Sensors, Robotics And Artificial Intellige...</td>\n",
       "    </tr>\n",
       "    <tr>\n",
       "      <th>2543</th>\n",
       "      <td>How Sensors, Robotics And Artificial Intellige...</td>\n",
       "    </tr>\n",
       "    <tr>\n",
       "      <th>2569</th>\n",
       "      <td>How Sensors, Robotics And Artificial Intellige...</td>\n",
       "    </tr>\n",
       "  </tbody>\n",
       "</table>\n",
       "</div>"
      ],
      "text/plain": [
       "                                             clean_text\n",
       "3121  NSA panama city sheikh isa air base viral hemo...\n",
       "3112  Dr. Erick Loetz teaching Intro Animal Science ...\n",
       "2541  How Sensors, Robotics And Artificial Intellige...\n",
       "2543  How Sensors, Robotics And Artificial Intellige...\n",
       "2569  How Sensors, Robotics And Artificial Intellige..."
      ]
     },
     "execution_count": 592,
     "metadata": {},
     "output_type": "execute_result"
    }
   ],
   "source": [
    " all_tweets[all_tweets['sentiment'] <0].sort_values(by=['sentiment'], ascending=True).head()[['clean_text']]"
   ]
  },
  {
   "cell_type": "code",
   "execution_count": 593,
   "metadata": {
    "collapsed": true
   },
   "outputs": [],
   "source": [
    "all_tweets['year'] = all_tweets['date'].dt.year\n",
    "all_tweets['month'] = all_tweets['date'].dt.month\n",
    "all_tweets['day'] = all_tweets['date'].dt.day"
   ]
  },
  {
   "cell_type": "code",
   "execution_count": 594,
   "metadata": {},
   "outputs": [
    {
     "data": {
      "image/png": "[encoded data removed]",
      "text/plain": [
       "<matplotlib.figure.Figure at 0x1a3b8ddcc0>"
      ]
     },
     "metadata": {},
     "output_type": "display_data"
    }
   ],
   "source": [
    "sns.countplot(x=\"month\", data=all_tweets, orient='v');"
   ]
  },
  {
   "cell_type": "code",
   "execution_count": 595,
   "metadata": {},
   "outputs": [
    {
     "data": {
      "text/html": [
       "<div>\n",
       "<style scoped>\n",
       "    .dataframe tbody tr th:only-of-type {\n",
       "        vertical-align: middle;\n",
       "    }\n",
       "\n",
       "    .dataframe tbody tr th {\n",
       "        vertical-align: top;\n",
       "    }\n",
       "\n",
       "    .dataframe thead th {\n",
       "        text-align: right;\n",
       "    }\n",
       "</style>\n",
       "<table border=\"1\" class=\"dataframe\">\n",
       "  <thead>\n",
       "    <tr style=\"text-align: right;\">\n",
       "      <th></th>\n",
       "      <th>date</th>\n",
       "      <th>favorites</th>\n",
       "      <th>hashtags</th>\n",
       "      <th>id</th>\n",
       "      <th>mentions</th>\n",
       "      <th>permalink</th>\n",
       "      <th>retweets</th>\n",
       "      <th>text</th>\n",
       "      <th>username</th>\n",
       "      <th>hashtags_list</th>\n",
       "      <th>mentions_list</th>\n",
       "      <th>count_hashtags</th>\n",
       "      <th>count_mentions</th>\n",
       "      <th>username_id</th>\n",
       "      <th>clean_text</th>\n",
       "      <th>sentiment</th>\n",
       "      <th>year</th>\n",
       "      <th>month</th>\n",
       "      <th>day</th>\n",
       "    </tr>\n",
       "  </thead>\n",
       "  <tbody>\n",
       "    <tr>\n",
       "      <th>0</th>\n",
       "      <td>2018-03-30 11:33:01</td>\n",
       "      <td>3</td>\n",
       "      <td>#agriculture #Canada #AI #mining #oil #gas #Na...</td>\n",
       "      <td>979743304094019584</td>\n",
       "      <td>@Bioenterprise03</td>\n",
       "      <td>https://twitter.com/3DSNR/status/9797433040940...</td>\n",
       "      <td>2</td>\n",
       "      <td>RT @Bioenterprise03 The #agriculture industry ...</td>\n",
       "      <td>3DSNR</td>\n",
       "      <td>[agriculture , canada , ai , mining , oil , ga...</td>\n",
       "      <td>[bioenterprise03]</td>\n",
       "      <td>8</td>\n",
       "      <td>1</td>\n",
       "      <td>7</td>\n",
       "      <td>RT The industry resource sector shaken awake p...</td>\n",
       "      <td>0.03125</td>\n",
       "      <td>2018</td>\n",
       "      <td>3</td>\n",
       "      <td>30</td>\n",
       "    </tr>\n",
       "    <tr>\n",
       "      <th>1</th>\n",
       "      <td>2018-03-30 10:58:13</td>\n",
       "      <td>0</td>\n",
       "      <td>#farming #farm #agritech #agriculture #success...</td>\n",
       "      <td>979734549608333313</td>\n",
       "      <td></td>\n",
       "      <td>https://twitter.com/99reviewz/status/979734549...</td>\n",
       "      <td>0</td>\n",
       "      <td>Are you a #farming fanatic that simply doesn't...</td>\n",
       "      <td>99reviewz</td>\n",
       "      <td>[farming , farm , agritech , agriculture , suc...</td>\n",
       "      <td>[]</td>\n",
       "      <td>15</td>\n",
       "      <td>0</td>\n",
       "      <td>12</td>\n",
       "      <td>Are fanatic simply time? Here something could ...</td>\n",
       "      <td>-0.15000</td>\n",
       "      <td>2018</td>\n",
       "      <td>3</td>\n",
       "      <td>30</td>\n",
       "    </tr>\n",
       "  </tbody>\n",
       "</table>\n",
       "</div>"
      ],
      "text/plain": [
       "                 date  favorites  \\\n",
       "0 2018-03-30 11:33:01          3   \n",
       "1 2018-03-30 10:58:13          0   \n",
       "\n",
       "                                            hashtags                  id  \\\n",
       "0  #agriculture #Canada #AI #mining #oil #gas #Na...  979743304094019584   \n",
       "1  #farming #farm #agritech #agriculture #success...  979734549608333313   \n",
       "\n",
       "           mentions                                          permalink  \\\n",
       "0  @Bioenterprise03  https://twitter.com/3DSNR/status/9797433040940...   \n",
       "1                    https://twitter.com/99reviewz/status/979734549...   \n",
       "\n",
       "   retweets                                               text   username  \\\n",
       "0         2  RT @Bioenterprise03 The #agriculture industry ...      3DSNR   \n",
       "1         0  Are you a #farming fanatic that simply doesn't...  99reviewz   \n",
       "\n",
       "                                       hashtags_list      mentions_list  \\\n",
       "0  [agriculture , canada , ai , mining , oil , ga...  [bioenterprise03]   \n",
       "1  [farming , farm , agritech , agriculture , suc...                 []   \n",
       "\n",
       "   count_hashtags  count_mentions  username_id  \\\n",
       "0               8               1            7   \n",
       "1              15               0           12   \n",
       "\n",
       "                                          clean_text  sentiment  year  month  \\\n",
       "0  RT The industry resource sector shaken awake p...    0.03125  2018      3   \n",
       "1  Are fanatic simply time? Here something could ...   -0.15000  2018      3   \n",
       "\n",
       "   day  \n",
       "0   30  \n",
       "1   30  "
      ]
     },
     "execution_count": 595,
     "metadata": {},
     "output_type": "execute_result"
    }
   ],
   "source": [
    "all_tweets.head(2)"
   ]
  },
  {
   "cell_type": "code",
   "execution_count": null,
   "metadata": {
    "collapsed": true
   },
   "outputs": [],
   "source": []
  },
  {
   "cell_type": "code",
   "execution_count": null,
   "metadata": {
    "collapsed": true
   },
   "outputs": [],
   "source": []
  },
  {
   "cell_type": "code",
   "execution_count": null,
   "metadata": {
    "collapsed": true
   },
   "outputs": [],
   "source": []
  }
 ],
 "metadata": {
  "kernelspec": {
   "display_name": "py36",
   "language": "python",
   "name": "py36"
  },
  "language_info": {
   "codemirror_mode": {
    "name": "ipython",
    "version": 3
   },
   "file_extension": ".py",
   "mimetype": "text/x-python",
   "name": "python",
   "nbconvert_exporter": "python",
   "pygments_lexer": "ipython3",
   "version": "3.6.4"
  }
 },
 "nbformat": 4,
 "nbformat_minor": 2
}
